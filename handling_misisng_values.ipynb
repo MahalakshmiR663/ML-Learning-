{
 "cells": [
  {
   "cell_type": "code",
   "execution_count": 12,
   "id": "582fb9ca",
   "metadata": {},
   "outputs": [],
   "source": [
    "# If very few missing → drop rows.\n",
    "\n",
    "# If numeric & not many missing → use mean/median.\n",
    "\n",
    "# If categorical → use mode or \"Unknown\".\n",
    "\n",
    "# If many missing & important column → use advanced imputers."
   ]
  },
  {
   "cell_type": "code",
   "execution_count": null,
   "id": "be354f45",
   "metadata": {},
   "outputs": [],
   "source": [
    "import os\n",
    "print(os.path.exists(r\"C:\\Users\\DELL\\Desktop\\stu\\StressLevelDataset.csv\"))\n"
   ]
  },
  {
   "cell_type": "code",
   "execution_count": 6,
   "id": "77138b31",
   "metadata": {},
   "outputs": [
    {
     "name": "stdout",
     "output_type": "stream",
     "text": [
      "True\n"
     ]
    }
   ],
   "source": [
    "import os\n",
    "\n",
    "file_path = r\"C:\\Users\\USER\\Desktop\\stu\\StressLevelDataset.csv\"\n",
    "\n",
    "print(os.path.exists(file_path))\n"
   ]
  },
  {
   "cell_type": "code",
   "execution_count": 21,
   "id": "e99e1f1d",
   "metadata": {},
   "outputs": [
    {
     "data": {
      "text/html": [
       "<div>\n",
       "<style scoped>\n",
       "    .dataframe tbody tr th:only-of-type {\n",
       "        vertical-align: middle;\n",
       "    }\n",
       "\n",
       "    .dataframe tbody tr th {\n",
       "        vertical-align: top;\n",
       "    }\n",
       "\n",
       "    .dataframe thead th {\n",
       "        text-align: right;\n",
       "    }\n",
       "</style>\n",
       "<table border=\"1\" class=\"dataframe\">\n",
       "  <thead>\n",
       "    <tr style=\"text-align: right;\">\n",
       "      <th></th>\n",
       "      <th>anxiety_level</th>\n",
       "      <th>self_esteem</th>\n",
       "      <th>mental_health_history</th>\n",
       "      <th>depression</th>\n",
       "      <th>headache</th>\n",
       "      <th>blood_pressure</th>\n",
       "      <th>sleep_quality</th>\n",
       "      <th>breathing_problem</th>\n",
       "      <th>noise_level</th>\n",
       "      <th>living_conditions</th>\n",
       "      <th>...</th>\n",
       "      <th>basic_needs</th>\n",
       "      <th>academic_performance</th>\n",
       "      <th>study_load</th>\n",
       "      <th>teacher_student_relationship</th>\n",
       "      <th>future_career_concerns</th>\n",
       "      <th>social_support</th>\n",
       "      <th>peer_pressure</th>\n",
       "      <th>extracurricular_activities</th>\n",
       "      <th>bullying</th>\n",
       "      <th>stress_level</th>\n",
       "    </tr>\n",
       "  </thead>\n",
       "  <tbody>\n",
       "    <tr>\n",
       "      <th>0</th>\n",
       "      <td>14</td>\n",
       "      <td>20</td>\n",
       "      <td>0</td>\n",
       "      <td>11</td>\n",
       "      <td>2</td>\n",
       "      <td>1</td>\n",
       "      <td>2</td>\n",
       "      <td>4</td>\n",
       "      <td>2</td>\n",
       "      <td>3</td>\n",
       "      <td>...</td>\n",
       "      <td>2</td>\n",
       "      <td>3</td>\n",
       "      <td>2</td>\n",
       "      <td>3</td>\n",
       "      <td>3</td>\n",
       "      <td>2</td>\n",
       "      <td>3</td>\n",
       "      <td>3</td>\n",
       "      <td>2</td>\n",
       "      <td>1</td>\n",
       "    </tr>\n",
       "    <tr>\n",
       "      <th>1</th>\n",
       "      <td>15</td>\n",
       "      <td>8</td>\n",
       "      <td>1</td>\n",
       "      <td>15</td>\n",
       "      <td>5</td>\n",
       "      <td>3</td>\n",
       "      <td>1</td>\n",
       "      <td>4</td>\n",
       "      <td>3</td>\n",
       "      <td>1</td>\n",
       "      <td>...</td>\n",
       "      <td>2</td>\n",
       "      <td>1</td>\n",
       "      <td>4</td>\n",
       "      <td>1</td>\n",
       "      <td>5</td>\n",
       "      <td>1</td>\n",
       "      <td>4</td>\n",
       "      <td>5</td>\n",
       "      <td>5</td>\n",
       "      <td>2</td>\n",
       "    </tr>\n",
       "    <tr>\n",
       "      <th>2</th>\n",
       "      <td>12</td>\n",
       "      <td>18</td>\n",
       "      <td>1</td>\n",
       "      <td>14</td>\n",
       "      <td>2</td>\n",
       "      <td>1</td>\n",
       "      <td>2</td>\n",
       "      <td>2</td>\n",
       "      <td>2</td>\n",
       "      <td>2</td>\n",
       "      <td>...</td>\n",
       "      <td>2</td>\n",
       "      <td>2</td>\n",
       "      <td>3</td>\n",
       "      <td>3</td>\n",
       "      <td>2</td>\n",
       "      <td>2</td>\n",
       "      <td>3</td>\n",
       "      <td>2</td>\n",
       "      <td>2</td>\n",
       "      <td>1</td>\n",
       "    </tr>\n",
       "    <tr>\n",
       "      <th>3</th>\n",
       "      <td>16</td>\n",
       "      <td>12</td>\n",
       "      <td>1</td>\n",
       "      <td>15</td>\n",
       "      <td>4</td>\n",
       "      <td>3</td>\n",
       "      <td>1</td>\n",
       "      <td>3</td>\n",
       "      <td>4</td>\n",
       "      <td>2</td>\n",
       "      <td>...</td>\n",
       "      <td>2</td>\n",
       "      <td>2</td>\n",
       "      <td>4</td>\n",
       "      <td>1</td>\n",
       "      <td>4</td>\n",
       "      <td>1</td>\n",
       "      <td>4</td>\n",
       "      <td>4</td>\n",
       "      <td>5</td>\n",
       "      <td>2</td>\n",
       "    </tr>\n",
       "    <tr>\n",
       "      <th>4</th>\n",
       "      <td>16</td>\n",
       "      <td>28</td>\n",
       "      <td>0</td>\n",
       "      <td>7</td>\n",
       "      <td>2</td>\n",
       "      <td>3</td>\n",
       "      <td>5</td>\n",
       "      <td>1</td>\n",
       "      <td>3</td>\n",
       "      <td>2</td>\n",
       "      <td>...</td>\n",
       "      <td>3</td>\n",
       "      <td>4</td>\n",
       "      <td>3</td>\n",
       "      <td>1</td>\n",
       "      <td>2</td>\n",
       "      <td>1</td>\n",
       "      <td>5</td>\n",
       "      <td>0</td>\n",
       "      <td>5</td>\n",
       "      <td>1</td>\n",
       "    </tr>\n",
       "  </tbody>\n",
       "</table>\n",
       "<p>5 rows × 21 columns</p>\n",
       "</div>"
      ],
      "text/plain": [
       "   anxiety_level  self_esteem  mental_health_history  depression  headache  \\\n",
       "0             14           20                      0          11         2   \n",
       "1             15            8                      1          15         5   \n",
       "2             12           18                      1          14         2   \n",
       "3             16           12                      1          15         4   \n",
       "4             16           28                      0           7         2   \n",
       "\n",
       "   blood_pressure  sleep_quality  breathing_problem  noise_level  \\\n",
       "0               1              2                  4            2   \n",
       "1               3              1                  4            3   \n",
       "2               1              2                  2            2   \n",
       "3               3              1                  3            4   \n",
       "4               3              5                  1            3   \n",
       "\n",
       "   living_conditions  ...  basic_needs  academic_performance  study_load  \\\n",
       "0                  3  ...            2                     3           2   \n",
       "1                  1  ...            2                     1           4   \n",
       "2                  2  ...            2                     2           3   \n",
       "3                  2  ...            2                     2           4   \n",
       "4                  2  ...            3                     4           3   \n",
       "\n",
       "   teacher_student_relationship  future_career_concerns  social_support  \\\n",
       "0                             3                       3               2   \n",
       "1                             1                       5               1   \n",
       "2                             3                       2               2   \n",
       "3                             1                       4               1   \n",
       "4                             1                       2               1   \n",
       "\n",
       "   peer_pressure  extracurricular_activities  bullying  stress_level  \n",
       "0              3                           3         2             1  \n",
       "1              4                           5         5             2  \n",
       "2              3                           2         2             1  \n",
       "3              4                           4         5             2  \n",
       "4              5                           0         5             1  \n",
       "\n",
       "[5 rows x 21 columns]"
      ]
     },
     "execution_count": 21,
     "metadata": {},
     "output_type": "execute_result"
    }
   ],
   "source": [
    "import pandas as pd\n",
    "\n",
    "df = pd.read_csv(r\"C:\\Users\\USER\\Desktop\\stu\\StressLevelDataset.csv\")\n",
    "df.head()\n"
   ]
  },
  {
   "cell_type": "markdown",
   "id": "028f94fd",
   "metadata": {},
   "source": [
    "df.columns.tolist()"
   ]
  },
  {
   "cell_type": "code",
   "execution_count": 9,
   "id": "e1ca070c",
   "metadata": {},
   "outputs": [
    {
     "data": {
      "text/plain": [
       "['anxiety_level',\n",
       " 'self_esteem',\n",
       " 'mental_health_history',\n",
       " 'depression',\n",
       " 'headache',\n",
       " 'blood_pressure',\n",
       " 'sleep_quality',\n",
       " 'breathing_problem',\n",
       " 'noise_level',\n",
       " 'living_conditions',\n",
       " 'safety',\n",
       " 'basic_needs',\n",
       " 'academic_performance',\n",
       " 'study_load',\n",
       " 'teacher_student_relationship',\n",
       " 'future_career_concerns',\n",
       " 'social_support',\n",
       " 'peer_pressure',\n",
       " 'extracurricular_activities',\n",
       " 'bullying',\n",
       " 'stress_level']"
      ]
     },
     "execution_count": 9,
     "metadata": {},
     "output_type": "execute_result"
    }
   ],
   "source": [
    "df.columns.tolist()"
   ]
  },
  {
   "cell_type": "code",
   "execution_count": 24,
   "id": "12e250d3",
   "metadata": {},
   "outputs": [
    {
     "data": {
      "text/plain": [
       "anxiety_level                   0\n",
       "self_esteem                     0\n",
       "mental_health_history           0\n",
       "depression                      0\n",
       "headache                        0\n",
       "blood_pressure                  0\n",
       "sleep_quality                   0\n",
       "breathing_problem               0\n",
       "noise_level                     0\n",
       "living_conditions               0\n",
       "safety                          0\n",
       "basic_needs                     0\n",
       "academic_performance            0\n",
       "study_load                      0\n",
       "teacher_student_relationship    0\n",
       "future_career_concerns          0\n",
       "social_support                  0\n",
       "peer_pressure                   0\n",
       "extracurricular_activities      0\n",
       "bullying                        0\n",
       "stress_level                    0\n",
       "dtype: int64"
      ]
     },
     "execution_count": 24,
     "metadata": {},
     "output_type": "execute_result"
    }
   ],
   "source": [
    "df.isnull().sum()   #sum of misisng values by col"
   ]
  },
  {
   "cell_type": "code",
   "execution_count": 25,
   "id": "fbf97bdd",
   "metadata": {},
   "outputs": [
    {
     "data": {
      "text/plain": [
       "0"
      ]
     },
     "execution_count": 25,
     "metadata": {},
     "output_type": "execute_result"
    }
   ],
   "source": [
    "df.isnull().sum() .sum()                                     #sum of misisng values by entire dataset"
   ]
  },
  {
   "cell_type": "code",
   "execution_count": 26,
   "id": "9b2b0d92",
   "metadata": {},
   "outputs": [
    {
     "name": "stdout",
     "output_type": "stream",
     "text": [
      "anxiety_level                   0.0\n",
      "self_esteem                     0.0\n",
      "mental_health_history           0.0\n",
      "depression                      0.0\n",
      "headache                        0.0\n",
      "blood_pressure                  0.0\n",
      "sleep_quality                   0.0\n",
      "breathing_problem               0.0\n",
      "noise_level                     0.0\n",
      "living_conditions               0.0\n",
      "safety                          0.0\n",
      "basic_needs                     0.0\n",
      "academic_performance            0.0\n",
      "study_load                      0.0\n",
      "teacher_student_relationship    0.0\n",
      "future_career_concerns          0.0\n",
      "social_support                  0.0\n",
      "peer_pressure                   0.0\n",
      "extracurricular_activities      0.0\n",
      "bullying                        0.0\n",
      "stress_level                    0.0\n",
      "dtype: float64\n"
     ]
    }
   ],
   "source": [
    "missing_percentage = (df.isnull().sum() / len(df)) * 100\n",
    "print(missing_percentage)\n"
   ]
  },
  {
   "cell_type": "code",
   "execution_count": 28,
   "id": "d22dd683",
   "metadata": {},
   "outputs": [
    {
     "data": {
      "text/plain": [
       "1100"
      ]
     },
     "execution_count": 28,
     "metadata": {},
     "output_type": "execute_result"
    }
   ],
   "source": [
    "len(df)   #num of rows"
   ]
  },
  {
   "cell_type": "code",
   "execution_count": 30,
   "id": "849c34ac",
   "metadata": {},
   "outputs": [
    {
     "name": "stdout",
     "output_type": "stream",
     "text": [
      "<class 'pandas.core.frame.DataFrame'>\n",
      "RangeIndex: 1100 entries, 0 to 1099\n",
      "Data columns (total 21 columns):\n",
      " #   Column                        Non-Null Count  Dtype\n",
      "---  ------                        --------------  -----\n",
      " 0   anxiety_level                 1100 non-null   int64\n",
      " 1   self_esteem                   1100 non-null   int64\n",
      " 2   mental_health_history         1100 non-null   int64\n",
      " 3   depression                    1100 non-null   int64\n",
      " 4   headache                      1100 non-null   int64\n",
      " 5   blood_pressure                1100 non-null   int64\n",
      " 6   sleep_quality                 1100 non-null   int64\n",
      " 7   breathing_problem             1100 non-null   int64\n",
      " 8   noise_level                   1100 non-null   int64\n",
      " 9   living_conditions             1100 non-null   int64\n",
      " 10  safety                        1100 non-null   int64\n",
      " 11  basic_needs                   1100 non-null   int64\n",
      " 12  academic_performance          1100 non-null   int64\n",
      " 13  study_load                    1100 non-null   int64\n",
      " 14  teacher_student_relationship  1100 non-null   int64\n",
      " 15  future_career_concerns        1100 non-null   int64\n",
      " 16  social_support                1100 non-null   int64\n",
      " 17  peer_pressure                 1100 non-null   int64\n",
      " 18  extracurricular_activities    1100 non-null   int64\n",
      " 19  bullying                      1100 non-null   int64\n",
      " 20  stress_level                  1100 non-null   int64\n",
      "dtypes: int64(21)\n",
      "memory usage: 180.6 KB\n",
      "None\n"
     ]
    }
   ],
   "source": [
    "print(df.info())\n",
    "#  Non-null → means the value exists (it can be 0, a number, text, or anything valid — just not missing).\n"
   ]
  },
  {
   "cell_type": "code",
   "execution_count": 57,
   "id": "8badab92",
   "metadata": {},
   "outputs": [
    {
     "data": {
      "text/plain": [
       "(891, 15)"
      ]
     },
     "execution_count": 57,
     "metadata": {},
     "output_type": "execute_result"
    }
   ],
   "source": [
    "import seaborn as sns\n",
    "titanic=sns.load_dataset(\"titanic\")\n",
    "titanic.shape"
   ]
  },
  {
   "cell_type": "code",
   "execution_count": 36,
   "id": "7264c3b2",
   "metadata": {},
   "outputs": [
    {
     "data": {
      "text/html": [
       "<div>\n",
       "<style scoped>\n",
       "    .dataframe tbody tr th:only-of-type {\n",
       "        vertical-align: middle;\n",
       "    }\n",
       "\n",
       "    .dataframe tbody tr th {\n",
       "        vertical-align: top;\n",
       "    }\n",
       "\n",
       "    .dataframe thead th {\n",
       "        text-align: right;\n",
       "    }\n",
       "</style>\n",
       "<table border=\"1\" class=\"dataframe\">\n",
       "  <thead>\n",
       "    <tr style=\"text-align: right;\">\n",
       "      <th></th>\n",
       "      <th>survived</th>\n",
       "      <th>pclass</th>\n",
       "      <th>sex</th>\n",
       "      <th>age</th>\n",
       "      <th>sibsp</th>\n",
       "      <th>parch</th>\n",
       "      <th>fare</th>\n",
       "      <th>embarked</th>\n",
       "      <th>class</th>\n",
       "      <th>who</th>\n",
       "      <th>adult_male</th>\n",
       "      <th>deck</th>\n",
       "      <th>embark_town</th>\n",
       "      <th>alive</th>\n",
       "      <th>alone</th>\n",
       "    </tr>\n",
       "  </thead>\n",
       "  <tbody>\n",
       "    <tr>\n",
       "      <th>0</th>\n",
       "      <td>0</td>\n",
       "      <td>3</td>\n",
       "      <td>male</td>\n",
       "      <td>22.0</td>\n",
       "      <td>1</td>\n",
       "      <td>0</td>\n",
       "      <td>7.2500</td>\n",
       "      <td>S</td>\n",
       "      <td>Third</td>\n",
       "      <td>man</td>\n",
       "      <td>True</td>\n",
       "      <td>NaN</td>\n",
       "      <td>Southampton</td>\n",
       "      <td>no</td>\n",
       "      <td>False</td>\n",
       "    </tr>\n",
       "    <tr>\n",
       "      <th>1</th>\n",
       "      <td>1</td>\n",
       "      <td>1</td>\n",
       "      <td>female</td>\n",
       "      <td>38.0</td>\n",
       "      <td>1</td>\n",
       "      <td>0</td>\n",
       "      <td>71.2833</td>\n",
       "      <td>C</td>\n",
       "      <td>First</td>\n",
       "      <td>woman</td>\n",
       "      <td>False</td>\n",
       "      <td>C</td>\n",
       "      <td>Cherbourg</td>\n",
       "      <td>yes</td>\n",
       "      <td>False</td>\n",
       "    </tr>\n",
       "    <tr>\n",
       "      <th>2</th>\n",
       "      <td>1</td>\n",
       "      <td>3</td>\n",
       "      <td>female</td>\n",
       "      <td>26.0</td>\n",
       "      <td>0</td>\n",
       "      <td>0</td>\n",
       "      <td>7.9250</td>\n",
       "      <td>S</td>\n",
       "      <td>Third</td>\n",
       "      <td>woman</td>\n",
       "      <td>False</td>\n",
       "      <td>NaN</td>\n",
       "      <td>Southampton</td>\n",
       "      <td>yes</td>\n",
       "      <td>True</td>\n",
       "    </tr>\n",
       "    <tr>\n",
       "      <th>3</th>\n",
       "      <td>1</td>\n",
       "      <td>1</td>\n",
       "      <td>female</td>\n",
       "      <td>35.0</td>\n",
       "      <td>1</td>\n",
       "      <td>0</td>\n",
       "      <td>53.1000</td>\n",
       "      <td>S</td>\n",
       "      <td>First</td>\n",
       "      <td>woman</td>\n",
       "      <td>False</td>\n",
       "      <td>C</td>\n",
       "      <td>Southampton</td>\n",
       "      <td>yes</td>\n",
       "      <td>False</td>\n",
       "    </tr>\n",
       "    <tr>\n",
       "      <th>4</th>\n",
       "      <td>0</td>\n",
       "      <td>3</td>\n",
       "      <td>male</td>\n",
       "      <td>35.0</td>\n",
       "      <td>0</td>\n",
       "      <td>0</td>\n",
       "      <td>8.0500</td>\n",
       "      <td>S</td>\n",
       "      <td>Third</td>\n",
       "      <td>man</td>\n",
       "      <td>True</td>\n",
       "      <td>NaN</td>\n",
       "      <td>Southampton</td>\n",
       "      <td>no</td>\n",
       "      <td>True</td>\n",
       "    </tr>\n",
       "  </tbody>\n",
       "</table>\n",
       "</div>"
      ],
      "text/plain": [
       "   survived  pclass     sex   age  sibsp  parch     fare embarked  class  \\\n",
       "0         0       3    male  22.0      1      0   7.2500        S  Third   \n",
       "1         1       1  female  38.0      1      0  71.2833        C  First   \n",
       "2         1       3  female  26.0      0      0   7.9250        S  Third   \n",
       "3         1       1  female  35.0      1      0  53.1000        S  First   \n",
       "4         0       3    male  35.0      0      0   8.0500        S  Third   \n",
       "\n",
       "     who  adult_male deck  embark_town alive  alone  \n",
       "0    man        True  NaN  Southampton    no  False  \n",
       "1  woman       False    C    Cherbourg   yes  False  \n",
       "2  woman       False  NaN  Southampton   yes   True  \n",
       "3  woman       False    C  Southampton   yes  False  \n",
       "4    man        True  NaN  Southampton    no   True  "
      ]
     },
     "execution_count": 36,
     "metadata": {},
     "output_type": "execute_result"
    }
   ],
   "source": [
    "titanic.head()"
   ]
  },
  {
   "cell_type": "code",
   "execution_count": 37,
   "id": "b96dc90c",
   "metadata": {},
   "outputs": [
    {
     "data": {
      "text/plain": [
       "survived         0\n",
       "pclass           0\n",
       "sex              0\n",
       "age            177\n",
       "sibsp            0\n",
       "parch            0\n",
       "fare             0\n",
       "embarked         2\n",
       "class            0\n",
       "who              0\n",
       "adult_male       0\n",
       "deck           688\n",
       "embark_town      2\n",
       "alive            0\n",
       "alone            0\n",
       "dtype: int64"
      ]
     },
     "execution_count": 37,
     "metadata": {},
     "output_type": "execute_result"
    }
   ],
   "source": [
    "titanic.isnull().sum()"
   ]
  },
  {
   "cell_type": "code",
   "execution_count": 38,
   "id": "5b02c2c8",
   "metadata": {},
   "outputs": [
    {
     "name": "stdout",
     "output_type": "stream",
     "text": [
      "Skewness of Age: 0.38910778230082704\n"
     ]
    }
   ],
   "source": [
    "print(\"Skewness of Age:\", titanic['age'].skew())\n"
   ]
  },
  {
   "cell_type": "code",
   "execution_count": 61,
   "id": "b05fedd0",
   "metadata": {},
   "outputs": [],
   "source": [
    "titanic=titanic.drop(columns=[\"deck\"])\n"
   ]
  },
  {
   "cell_type": "code",
   "execution_count": 45,
   "id": "f1ba6a08",
   "metadata": {},
   "outputs": [
    {
     "data": {
      "text/plain": [
       "['survived',\n",
       " 'pclass',\n",
       " 'sex',\n",
       " 'age',\n",
       " 'sibsp',\n",
       " 'parch',\n",
       " 'fare',\n",
       " 'embarked',\n",
       " 'class',\n",
       " 'who',\n",
       " 'adult_male',\n",
       " 'embark_town',\n",
       " 'alive',\n",
       " 'alone']"
      ]
     },
     "execution_count": 45,
     "metadata": {},
     "output_type": "execute_result"
    }
   ],
   "source": [
    "titanic.columns.tolist()"
   ]
  },
  {
   "cell_type": "code",
   "execution_count": 69,
   "id": "101461a5",
   "metadata": {},
   "outputs": [
    {
     "data": {
      "text/plain": [
       "(889, 14)"
      ]
     },
     "execution_count": 69,
     "metadata": {},
     "output_type": "execute_result"
    }
   ],
   "source": [
    "titanic.shape"
   ]
  },
  {
   "cell_type": "code",
   "execution_count": 59,
   "id": "615c8f11",
   "metadata": {},
   "outputs": [],
   "source": [
    "titanic.dropna(subset=[\"embarked\"],inplace=True)\n",
    "#titanic.dropna(subset=['embarked', 'embark_town'], inplace=True)\n"
   ]
  },
  {
   "cell_type": "code",
   "execution_count": 68,
   "id": "c2f5118b",
   "metadata": {},
   "outputs": [],
   "source": [
    "titanic.dropna(subset=['embark_town'], inplace=True)\n"
   ]
  },
  {
   "cell_type": "code",
   "execution_count": null,
   "id": "bae059c5",
   "metadata": {},
   "outputs": [],
   "source": []
  }
 ],
 "metadata": {
  "kernelspec": {
   "display_name": "Python 3 (ipykernel)",
   "language": "python",
   "name": "python3"
  },
  "language_info": {
   "codemirror_mode": {
    "name": "ipython",
    "version": 3
   },
   "file_extension": ".py",
   "mimetype": "text/x-python",
   "name": "python",
   "nbconvert_exporter": "python",
   "pygments_lexer": "ipython3",
   "version": "3.11.5"
  }
 },
 "nbformat": 4,
 "nbformat_minor": 5
}

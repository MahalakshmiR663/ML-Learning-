{
 "cells": [
  {
   "cell_type": "code",
   "execution_count": 11,
   "id": "da172537",
   "metadata": {},
   "outputs": [
    {
     "name": "stdout",
     "output_type": "stream",
     "text": [
      "Hello\n",
      "world\n",
      "Hello world\n",
      " There we're\n"
     ]
    }
   ],
   "source": [
    "print(\"\"\"Hello\n",
    "world\"\"\")\n",
    "print(\"Hello world\\n There we're\")"
   ]
  },
  {
   "cell_type": "code",
   "execution_count": 15,
   "id": "fbb7b596",
   "metadata": {},
   "outputs": [
    {
     "name": "stdout",
     "output_type": "stream",
     "text": [
      "about comments\n",
      "about\n",
      "comments\n"
     ]
    }
   ],
   "source": [
    "#single line comment\n",
    "\"\"\"multiline \n",
    "comment\"\"\"\n",
    "print(\"about comments\")\n",
    "print('''about\n",
    "comments''')"
   ]
  },
  {
   "cell_type": "code",
   "execution_count": 17,
   "id": "4e438818",
   "metadata": {},
   "outputs": [
    {
     "name": "stdout",
     "output_type": "stream",
     "text": [
      "hello world\n"
     ]
    }
   ],
   "source": [
    "a=\"hello world\"\n",
    "print(a)"
   ]
  },
  {
   "cell_type": "code",
   "execution_count": 77,
   "id": "10efc1a2",
   "metadata": {},
   "outputs": [
    {
     "name": "stdout",
     "output_type": "stream",
     "text": [
      "hello  world\n",
      "hello hello hello \n",
      "13\n",
      "concatenation\n",
      "catenation\n",
      "concatenatio\n",
      "char is hello\n",
      " my is alice and am  12 years old\n",
      "My name is alice and I am 12 years old.\n",
      "my name is alice and i'm 12 years old\n",
      "i\n",
      "li\n",
      "        aliCe      \n",
      "aliCe\n",
      "ALICE\n",
      "alice\n"
     ]
    }
   ],
   "source": [
    "#string manipulation\n",
    "\n",
    "#concatenation\n",
    "\n",
    "str1=\"hello \"\n",
    "str2=\" world\"\n",
    "str3=str1+str2\n",
    "print(str3)\n",
    "\n",
    "#repetition\n",
    "\n",
    "str3=str1 * 3\n",
    "print(str3)\n",
    "\n",
    "#length\n",
    "\n",
    "str4=\"concatenation\"\n",
    "print(len(str4))\n",
    "print(str4[0:]) #from first to last\n",
    "print(str4[3:]) #from 3rd charr to last charr\n",
    "print(str4[:-1]) #from first charr to last but one\n",
    "\n",
    "#format string\n",
    "\n",
    "char=\"hello\"\n",
    "print(f\"char is {char}\")\n",
    "\n",
    "age=12\n",
    "name=\"alice\"\n",
    "print(f\" my is {name} and am  {age} years old\")\n",
    "print(\"My name is {} and I am {} years old.\".format(name, age))\n",
    "print(\"my name is %s and i'm %d years old\"%(name,age))\n",
    "\n",
    "\n",
    "print(name[2])  #indexing\n",
    "print(name[1:3])  #substring accessing\n",
    "\n",
    "#stripping\n",
    "\n",
    "str1=\"        aliCe      \"\n",
    "print(str1)\n",
    "stripped=str1.strip()\n",
    "print(stripped)\n",
    "\n",
    "print(stripped.upper())\n",
    "print(stripped.lower())\n",
    "\n"
   ]
  },
  {
   "cell_type": "code",
   "execution_count": 1,
   "id": "0a0bf435",
   "metadata": {},
   "outputs": [
    {
     "name": "stdout",
     "output_type": "stream",
     "text": [
      "john 23 mcc 'b' block\n"
     ]
    }
   ],
   "source": [
    "name=\"john\"\n",
    "age=23\n",
    "address=\"mcc 'b' block\"\n",
    "print(name,age,address)"
   ]
  },
  {
   "cell_type": "code",
   "execution_count": 5,
   "id": "db2550df",
   "metadata": {},
   "outputs": [
    {
     "name": "stdout",
     "output_type": "stream",
     "text": [
      "3 2\n"
     ]
    }
   ],
   "source": [
    "a=2\n",
    "b=3\n",
    "a,b=b,a\n",
    "print(a,b)"
   ]
  },
  {
   "cell_type": "code",
   "execution_count": 7,
   "id": "97444b5d",
   "metadata": {},
   "outputs": [
    {
     "name": "stdout",
     "output_type": "stream",
     "text": [
      "34\n",
      "<class 'int'>\n"
     ]
    }
   ],
   "source": [
    "a=34.4\n",
    "a=int(a)\n",
    "print(a)\n",
    "print(type(a))"
   ]
  },
  {
   "cell_type": "code",
   "execution_count": 18,
   "id": "f7747161",
   "metadata": {},
   "outputs": [
    {
     "name": "stdout",
     "output_type": "stream",
     "text": [
      "Enter name of student: john\n",
      "Enter year: 2023\n",
      "Enter course enrolled: mca\n",
      "name of the student is john joined in 2023 for the course mca\n"
     ]
    }
   ],
   "source": [
    "name = input(\"Enter name of student: \")\n",
    "year = int(input(\"Enter year: \"))\n",
    "course_enrolled = input(\"Enter course enrolled: \")\n",
    "\n",
    "print(f\"name of the student is {name} joined in {year} for the course {course_enrolled}\")\n",
    "\n"
   ]
  },
  {
   "cell_type": "code",
   "execution_count": 16,
   "id": "c4f48459",
   "metadata": {},
   "outputs": [
    {
     "name": "stdout",
     "output_type": "stream",
     "text": [
      "Enter name of student: john\n",
      "Enter year: 2023\n",
      "Enter course enrolled: mca\n",
      "john\n",
      "2023\n",
      "mca\n"
     ]
    }
   ],
   "source": [
    "name = input(\"Enter name of student: \")\n",
    "year = int(input(\"Enter year: \"))\n",
    "course_enrolled = input(\"Enter course enrolled: \")\n",
    "\n",
    "print(f\"{name}\\n{year}\\n{course_enrolled}\")\n"
   ]
  },
  {
   "cell_type": "code",
   "execution_count": 14,
   "id": "63b46065",
   "metadata": {},
   "outputs": [
    {
     "name": "stdout",
     "output_type": "stream",
     "text": [
      "12.0\n",
      "<class 'float'>\n"
     ]
    }
   ],
   "source": [
    "a=12\n",
    "a=float(a)\n",
    "print(a)\n",
    "print(type(a))"
   ]
  },
  {
   "cell_type": "code",
   "execution_count": 19,
   "id": "4d7a3d92",
   "metadata": {},
   "outputs": [
    {
     "name": "stdout",
     "output_type": "stream",
     "text": [
      "4\n",
      "2\n",
      "8\n"
     ]
    }
   ],
   "source": [
    "#arithmetic opeartor\n",
    "print(2+2)\n",
    "print(8//3)\n",
    "print(2**3)"
   ]
  },
  {
   "cell_type": "code",
   "execution_count": 25,
   "id": "c1897b77",
   "metadata": {},
   "outputs": [
    {
     "name": "stdout",
     "output_type": "stream",
     "text": [
      "True\n",
      "False\n",
      "True\n",
      "False\n"
     ]
    }
   ],
   "source": [
    "#logical operator\n",
    "print(3>2 and 3<7)\n",
    "print(3>2 and 3>7)\n",
    "print(not(3<2 and 3<7))\n",
    "print(not(3>2 or 3<7))\n"
   ]
  },
  {
   "cell_type": "code",
   "execution_count": 28,
   "id": "c5adb263",
   "metadata": {},
   "outputs": [
    {
     "name": "stdout",
     "output_type": "stream",
     "text": [
      "False\n",
      "True\n",
      "True\n",
      "False\n"
     ]
    }
   ],
   "source": [
    "#identity operator\n",
    "a=123\n",
    "b=\"123\"\n",
    "print(a is b)\n",
    "print(a is not b)\n",
    "a=123\n",
    "b=123\n",
    "print(a is b)\n",
    "print(a is not b)"
   ]
  },
  {
   "cell_type": "code",
   "execution_count": 43,
   "id": "d5d7b7ba",
   "metadata": {},
   "outputs": [
    {
     "name": "stdout",
     "output_type": "stream",
     "text": [
      "8\n",
      "10\n",
      "2\n",
      "0b100000\n",
      "0b10\n"
     ]
    }
   ],
   "source": [
    "#bitwise operator\n",
    "a=8\n",
    "b=10\n",
    "print(a & b)\n",
    "print(a | b)\n",
    "print(a^b)\n",
    "c=a<<2\n",
    "print(bin(c))\n",
    "c=a>>2\n",
    "print(bin(c))\n"
   ]
  },
  {
   "cell_type": "code",
   "execution_count": 46,
   "id": "11a87fa3",
   "metadata": {},
   "outputs": [
    {
     "name": "stdout",
     "output_type": "stream",
     "text": [
      "True\n",
      "True\n",
      "False\n"
     ]
    }
   ],
   "source": [
    "#membership operator\n",
    "a=\"hello\"\n",
    "print(\"e\" in a)\n",
    "print(\"a\" not in a)\n",
    "print(\"a\" in a)"
   ]
  },
  {
   "cell_type": "code",
   "execution_count": 48,
   "id": "a1d6820d",
   "metadata": {},
   "outputs": [
    {
     "name": "stdout",
     "output_type": "stream",
     "text": [
      "marks is 97\n"
     ]
    }
   ],
   "source": [
    "#conditional stms\n",
    "marks=97\n",
    "if marks>=95:\n",
    "    print(f\"marks is {marks}\")\n",
    "else:\n",
    "     print(f\"marks is less than 95\")\n",
    "    \n"
   ]
  },
  {
   "cell_type": "code",
   "execution_count": 53,
   "id": "c9f410ec",
   "metadata": {},
   "outputs": [
    {
     "name": "stdout",
     "output_type": "stream",
     "text": [
      "fail\n"
     ]
    }
   ],
   "source": [
    "marks=20\n",
    "if marks>=90:\n",
    "    print(\"distinction\")\n",
    "elif marks>=50 and marks<90:\n",
    "    print(\"pass\")\n",
    "else:\n",
    "    print(\"fail\")"
   ]
  },
  {
   "cell_type": "code",
   "execution_count": 57,
   "id": "c1b08993",
   "metadata": {},
   "outputs": [
    {
     "name": "stdout",
     "output_type": "stream",
     "text": [
      "distinction\n",
      "pass\n"
     ]
    }
   ],
   "source": [
    "#short-hand if \n",
    "marks=97\n",
    "if marks>=90:print(\"distinction\")\n",
    "    \n",
    "#short-hand if else\n",
    "#(body of if) if condition else (body of else)\n",
    "marks=87\n",
    "print(\"distinction\") if marks>=90 else print(\"pass\")"
   ]
  },
  {
   "cell_type": "code",
   "execution_count": null,
   "id": "1d10c518",
   "metadata": {},
   "outputs": [],
   "source": [
    "num=int(input(\"enter a number\"))\n",
    "if num%2==0:\n",
    "    print(\"even\")\n",
    "else:\n",
    "    print(\"odd\")"
   ]
  },
  {
   "cell_type": "code",
   "execution_count": null,
   "id": "1d144e5c",
   "metadata": {},
   "outputs": [],
   "source": [
    "n = int(input(\"Enter a number: \"))  # Make sure to input an integer\n",
    "if n >= 0:\n",
    "    print(\"pos\")  # If the number is 0 or greater\n",
    "else:\n",
    "    print(\"neg\")  # If the number is less than 0\n"
   ]
  },
  {
   "cell_type": "code",
   "execution_count": null,
   "id": "549a0ef3",
   "metadata": {},
   "outputs": [],
   "source": [
    "n = int(input(\"Enter a number: \"))  # Make sure to input an integer\n",
    "if n >= 0:\n",
    "    print(\"pos\")  # If the number is 0 or greater\n",
    "else:\n",
    "    print(\"neg\")  # If the number is less than 0\n"
   ]
  },
  {
   "cell_type": "code",
   "execution_count": null,
   "id": "516fdb43",
   "metadata": {},
   "outputs": [],
   "source": []
  },
  {
   "cell_type": "code",
   "execution_count": null,
   "id": "6939fc68",
   "metadata": {},
   "outputs": [],
   "source": []
  }
 ],
 "metadata": {
  "kernelspec": {
   "display_name": "Python 3 (ipykernel)",
   "language": "python",
   "name": "python3"
  },
  "language_info": {
   "codemirror_mode": {
    "name": "ipython",
    "version": 3
   },
   "file_extension": ".py",
   "mimetype": "text/x-python",
   "name": "python",
   "nbconvert_exporter": "python",
   "pygments_lexer": "ipython3",
   "version": "3.11.5"
  }
 },
 "nbformat": 4,
 "nbformat_minor": 5
}
